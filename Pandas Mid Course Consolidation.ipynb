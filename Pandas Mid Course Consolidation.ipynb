{
 "cells": [
  {
   "cell_type": "markdown",
   "id": "82e09547",
   "metadata": {},
   "source": [
    "Raphael Enriquez - Pandas Mid Course Consolidation"
   ]
  },
  {
   "cell_type": "markdown",
   "id": "817d16aa",
   "metadata": {},
   "source": [
    "1. Import libraries in the first cell"
   ]
  },
  {
   "cell_type": "code",
   "execution_count": 1,
   "id": "61bc1a26",
   "metadata": {},
   "outputs": [],
   "source": [
    "import pandas as pd\n",
    "import numpy as np\n",
    "import matplotlib.pyplot as plt"
   ]
  },
  {
   "cell_type": "markdown",
   "id": "131a99b4",
   "metadata": {},
   "source": [
    "2. Load data from SPX file to df "
   ]
  },
  {
   "cell_type": "code",
   "execution_count": 2,
   "id": "83bf4985",
   "metadata": {},
   "outputs": [],
   "source": [
    "# Read data into a DataFrame\n",
    "df_SPX = pd.read_csv('https://s3.eu-west-1.amazonaws.com/neueda.conygre.com/pydata/SPX.csv',\n",
    "                     index_col='Date', parse_dates=True)"
   ]
  },
  {
   "cell_type": "markdown",
   "id": "c119a960",
   "metadata": {},
   "source": [
    "3. Convert all columns to numerical"
   ]
  },
  {
   "cell_type": "code",
   "execution_count": 3,
   "id": "9a728443",
   "metadata": {},
   "outputs": [
    {
     "name": "stdout",
     "output_type": "stream",
     "text": [
      "Price       float64\n",
      "Open        float64\n",
      "High        float64\n",
      "Low         float64\n",
      "Change %    float64\n",
      "dtype: object\n"
     ]
    }
   ],
   "source": [
    "df_SPX['Price'] = pd.to_numeric(df_SPX['Price'].str.replace(',',''))\n",
    "df_SPX['Open'] = pd.to_numeric(df_SPX['Open'].str.replace(',',''))\n",
    "df_SPX['High'] = pd.to_numeric(df_SPX['High'].str.replace(',',''))\n",
    "df_SPX['Low'] = pd.to_numeric(df_SPX['Low'].str.replace(',',''))\n",
    "df_SPX['Change %'] = pd.to_numeric(df_SPX['Change %'].str.replace('%',''))\n",
    "\n",
    "print(df_SPX.dtypes)"
   ]
  },
  {
   "cell_type": "markdown",
   "id": "f94ab3bd",
   "metadata": {},
   "source": [
    "4. Sort the dataframe in chronological order"
   ]
  },
  {
   "cell_type": "code",
   "execution_count": 12,
   "id": "bfff2ff4",
   "metadata": {},
   "outputs": [
    {
     "data": {
      "text/html": [
       "<div>\n",
       "<style scoped>\n",
       "    .dataframe tbody tr th:only-of-type {\n",
       "        vertical-align: middle;\n",
       "    }\n",
       "\n",
       "    .dataframe tbody tr th {\n",
       "        vertical-align: top;\n",
       "    }\n",
       "\n",
       "    .dataframe thead th {\n",
       "        text-align: right;\n",
       "    }\n",
       "</style>\n",
       "<table border=\"1\" class=\"dataframe\">\n",
       "  <thead>\n",
       "    <tr style=\"text-align: right;\">\n",
       "      <th></th>\n",
       "      <th>Price</th>\n",
       "      <th>Open</th>\n",
       "      <th>High</th>\n",
       "      <th>Low</th>\n",
       "      <th>Change %</th>\n",
       "    </tr>\n",
       "    <tr>\n",
       "      <th>Date</th>\n",
       "      <th></th>\n",
       "      <th></th>\n",
       "      <th></th>\n",
       "      <th></th>\n",
       "      <th></th>\n",
       "    </tr>\n",
       "  </thead>\n",
       "  <tbody>\n",
       "    <tr>\n",
       "      <th>2006-01-04</th>\n",
       "      <td>1273.46</td>\n",
       "      <td>1268.80</td>\n",
       "      <td>1275.37</td>\n",
       "      <td>1267.74</td>\n",
       "      <td>0.37</td>\n",
       "    </tr>\n",
       "    <tr>\n",
       "      <th>2006-01-05</th>\n",
       "      <td>1273.48</td>\n",
       "      <td>1273.46</td>\n",
       "      <td>1276.91</td>\n",
       "      <td>1270.30</td>\n",
       "      <td>0.00</td>\n",
       "    </tr>\n",
       "    <tr>\n",
       "      <th>2006-01-06</th>\n",
       "      <td>1285.45</td>\n",
       "      <td>1273.48</td>\n",
       "      <td>1286.09</td>\n",
       "      <td>1273.48</td>\n",
       "      <td>0.94</td>\n",
       "    </tr>\n",
       "    <tr>\n",
       "      <th>2006-01-09</th>\n",
       "      <td>1290.15</td>\n",
       "      <td>1285.45</td>\n",
       "      <td>1290.78</td>\n",
       "      <td>1284.82</td>\n",
       "      <td>0.37</td>\n",
       "    </tr>\n",
       "    <tr>\n",
       "      <th>2006-01-10</th>\n",
       "      <td>1289.69</td>\n",
       "      <td>1290.15</td>\n",
       "      <td>1290.15</td>\n",
       "      <td>1283.76</td>\n",
       "      <td>-0.04</td>\n",
       "    </tr>\n",
       "    <tr>\n",
       "      <th>...</th>\n",
       "      <td>...</td>\n",
       "      <td>...</td>\n",
       "      <td>...</td>\n",
       "      <td>...</td>\n",
       "      <td>...</td>\n",
       "    </tr>\n",
       "    <tr>\n",
       "      <th>2017-12-22</th>\n",
       "      <td>2683.34</td>\n",
       "      <td>2684.22</td>\n",
       "      <td>2685.35</td>\n",
       "      <td>2678.13</td>\n",
       "      <td>-0.05</td>\n",
       "    </tr>\n",
       "    <tr>\n",
       "      <th>2017-12-26</th>\n",
       "      <td>2680.50</td>\n",
       "      <td>2679.09</td>\n",
       "      <td>2682.74</td>\n",
       "      <td>2677.96</td>\n",
       "      <td>-0.11</td>\n",
       "    </tr>\n",
       "    <tr>\n",
       "      <th>2017-12-27</th>\n",
       "      <td>2682.62</td>\n",
       "      <td>2682.10</td>\n",
       "      <td>2685.64</td>\n",
       "      <td>2678.91</td>\n",
       "      <td>0.08</td>\n",
       "    </tr>\n",
       "    <tr>\n",
       "      <th>2017-12-28</th>\n",
       "      <td>2687.54</td>\n",
       "      <td>2686.10</td>\n",
       "      <td>2687.66</td>\n",
       "      <td>2682.69</td>\n",
       "      <td>0.18</td>\n",
       "    </tr>\n",
       "    <tr>\n",
       "      <th>2017-12-29</th>\n",
       "      <td>2673.61</td>\n",
       "      <td>2689.15</td>\n",
       "      <td>2692.12</td>\n",
       "      <td>2673.61</td>\n",
       "      <td>-0.52</td>\n",
       "    </tr>\n",
       "  </tbody>\n",
       "</table>\n",
       "<p>3017 rows × 5 columns</p>\n",
       "</div>"
      ],
      "text/plain": [
       "              Price     Open     High      Low  Change %\n",
       "Date                                                    \n",
       "2006-01-04  1273.46  1268.80  1275.37  1267.74      0.37\n",
       "2006-01-05  1273.48  1273.46  1276.91  1270.30      0.00\n",
       "2006-01-06  1285.45  1273.48  1286.09  1273.48      0.94\n",
       "2006-01-09  1290.15  1285.45  1290.78  1284.82      0.37\n",
       "2006-01-10  1289.69  1290.15  1290.15  1283.76     -0.04\n",
       "...             ...      ...      ...      ...       ...\n",
       "2017-12-22  2683.34  2684.22  2685.35  2678.13     -0.05\n",
       "2017-12-26  2680.50  2679.09  2682.74  2677.96     -0.11\n",
       "2017-12-27  2682.62  2682.10  2685.64  2678.91      0.08\n",
       "2017-12-28  2687.54  2686.10  2687.66  2682.69      0.18\n",
       "2017-12-29  2673.61  2689.15  2692.12  2673.61     -0.52\n",
       "\n",
       "[3017 rows x 5 columns]"
      ]
     },
     "execution_count": 12,
     "metadata": {},
     "output_type": "execute_result"
    }
   ],
   "source": [
    "# From https://pandas.pydata.org/docs/reference/api/pandas.DataFrame.sort_index.html\n",
    "df_SPX = df_SPX.sort_index(ascending=True)\n",
    "df_SPX"
   ]
  },
  {
   "cell_type": "markdown",
   "id": "c1f42773",
   "metadata": {},
   "source": [
    "5. Plot a line chart: June 2015 to June 2016, High + Low"
   ]
  },
  {
   "cell_type": "code",
   "execution_count": 32,
   "id": "46f614f3",
   "metadata": {
    "scrolled": true
   },
   "outputs": [
    {
     "data": {
      "text/plain": [
       "<AxesSubplot:xlabel='Date'>"
      ]
     },
     "execution_count": 32,
     "metadata": {},
     "output_type": "execute_result"
    },
    {
     "data": {
      "image/png": "[encoded data removed]",
      "text/plain": [
       "<Figure size 432x288 with 1 Axes>"
      ]
     },
     "metadata": {
      "needs_background": "light"
     },
     "output_type": "display_data"
    }
   ],
   "source": [
    "# df_SPX.plot()\n",
    "# plt.show()\n",
    "\n",
    "df_new = df_SPX.query('\"2015-06-01\" < Date < \"2016-06-30\"')\n",
    "df_new[['High','Low']].plot()"
   ]
  },
  {
   "cell_type": "markdown",
   "id": "f862b920",
   "metadata": {},
   "source": [
    "6. Find the min, max, average, of all columns"
   ]
  },
  {
   "cell_type": "code",
   "execution_count": 33,
   "id": "7575d1f0",
   "metadata": {},
   "outputs": [
    {
     "data": {
      "text/html": [
       "<div>\n",
       "<style scoped>\n",
       "    .dataframe tbody tr th:only-of-type {\n",
       "        vertical-align: middle;\n",
       "    }\n",
       "\n",
       "    .dataframe tbody tr th {\n",
       "        vertical-align: top;\n",
       "    }\n",
       "\n",
       "    .dataframe thead th {\n",
       "        text-align: right;\n",
       "    }\n",
       "</style>\n",
       "<table border=\"1\" class=\"dataframe\">\n",
       "  <thead>\n",
       "    <tr style=\"text-align: right;\">\n",
       "      <th></th>\n",
       "      <th>Price</th>\n",
       "      <th>Open</th>\n",
       "      <th>High</th>\n",
       "      <th>Low</th>\n",
       "      <th>Change %</th>\n",
       "    </tr>\n",
       "  </thead>\n",
       "  <tbody>\n",
       "    <tr>\n",
       "      <th>count</th>\n",
       "      <td>3017.000000</td>\n",
       "      <td>3017.000000</td>\n",
       "      <td>3017.000000</td>\n",
       "      <td>3017.000000</td>\n",
       "      <td>3017.000000</td>\n",
       "    </tr>\n",
       "    <tr>\n",
       "      <th>mean</th>\n",
       "      <td>1576.930597</td>\n",
       "      <td>1576.562337</td>\n",
       "      <td>1585.094839</td>\n",
       "      <td>1567.404445</td>\n",
       "      <td>0.032105</td>\n",
       "    </tr>\n",
       "    <tr>\n",
       "      <th>std</th>\n",
       "      <td>450.029412</td>\n",
       "      <td>449.869900</td>\n",
       "      <td>449.078688</td>\n",
       "      <td>450.705886</td>\n",
       "      <td>1.223285</td>\n",
       "    </tr>\n",
       "    <tr>\n",
       "      <th>min</th>\n",
       "      <td>676.530000</td>\n",
       "      <td>679.280000</td>\n",
       "      <td>695.270000</td>\n",
       "      <td>666.790000</td>\n",
       "      <td>-9.030000</td>\n",
       "    </tr>\n",
       "    <tr>\n",
       "      <th>25%</th>\n",
       "      <td>1266.690000</td>\n",
       "      <td>1266.670000</td>\n",
       "      <td>1274.560000</td>\n",
       "      <td>1259.420000</td>\n",
       "      <td>-0.390000</td>\n",
       "    </tr>\n",
       "    <tr>\n",
       "      <th>50%</th>\n",
       "      <td>1428.610000</td>\n",
       "      <td>1428.650000</td>\n",
       "      <td>1437.650000</td>\n",
       "      <td>1422.340000</td>\n",
       "      <td>0.060000</td>\n",
       "    </tr>\n",
       "    <tr>\n",
       "      <th>75%</th>\n",
       "      <td>1986.510000</td>\n",
       "      <td>1985.320000</td>\n",
       "      <td>1993.480000</td>\n",
       "      <td>1975.670000</td>\n",
       "      <td>0.540000</td>\n",
       "    </tr>\n",
       "    <tr>\n",
       "      <th>max</th>\n",
       "      <td>2690.160000</td>\n",
       "      <td>2692.710000</td>\n",
       "      <td>2694.970000</td>\n",
       "      <td>2685.920000</td>\n",
       "      <td>11.580000</td>\n",
       "    </tr>\n",
       "  </tbody>\n",
       "</table>\n",
       "</div>"
      ],
      "text/plain": [
       "             Price         Open         High          Low     Change %\n",
       "count  3017.000000  3017.000000  3017.000000  3017.000000  3017.000000\n",
       "mean   1576.930597  1576.562337  1585.094839  1567.404445     0.032105\n",
       "std     450.029412   449.869900   449.078688   450.705886     1.223285\n",
       "min     676.530000   679.280000   695.270000   666.790000    -9.030000\n",
       "25%    1266.690000  1266.670000  1274.560000  1259.420000    -0.390000\n",
       "50%    1428.610000  1428.650000  1437.650000  1422.340000     0.060000\n",
       "75%    1986.510000  1985.320000  1993.480000  1975.670000     0.540000\n",
       "max    2690.160000  2692.710000  2694.970000  2685.920000    11.580000"
      ]
     },
     "execution_count": 33,
     "metadata": {},
     "output_type": "execute_result"
    }
   ],
   "source": [
    "df_SPX.describe()"
   ]
  }
 ],
 "metadata": {
  "kernelspec": {
   "display_name": "Python 3 (ipykernel)",
   "language": "python",
   "name": "python3"
  },
  "language_info": {
   "codemirror_mode": {
    "name": "ipython",
    "version": 3
   },
   "file_extension": ".py",
   "mimetype": "text/x-python",
   "name": "python",
   "nbconvert_exporter": "python",
   "pygments_lexer": "ipython3",
   "version": "3.9.12"
  }
 },
 "nbformat": 4,
 "nbformat_minor": 5
}
